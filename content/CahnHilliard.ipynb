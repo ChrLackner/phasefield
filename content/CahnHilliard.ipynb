{
 "cells": [
  {
   "cell_type": "code",
   "execution_count": null,
   "id": "particular-screen",
   "metadata": {},
   "outputs": [],
   "source": [
    "# Import required libraries\n",
    "from netgen.occ import *\n",
    "from ngsolve import *\n",
    "import random\n",
    "from ngsolve.webgui import *"
   ]
  },
  {
   "cell_type": "markdown",
   "id": "framed-jackson",
   "metadata": {},
   "source": [
    "Parameters to play around with"
   ]
  },
  {
   "cell_type": "code",
   "execution_count": null,
   "id": "colonial-atlanta",
   "metadata": {},
   "outputs": [],
   "source": [
    "a = 2 # domain size\n",
    "maxh = 0.04 # mesh size\n",
    "tau = 0.001 # timestep size\n",
    "gamma = 0.02 ** 2 # length of transition region\n",
    "D = 1 # diffusion coefficient\n",
    "phi = 0.5 # average initial phase in [0,1]\n",
    "explicit = True # Explicit/implicit time stepping\n",
    "\n",
    "random.seed(1) # Initialize random number generator -> Gives same random numbers with this line."
   ]
  },
  {
   "cell_type": "markdown",
   "id": "proof-suffering",
   "metadata": {},
   "source": [
    "Create geometry. Use periodic identification for left and right edge and top and bottom one."
   ]
  },
  {
   "cell_type": "code",
   "execution_count": null,
   "id": "heavy-coast",
   "metadata": {},
   "outputs": [],
   "source": [
    "r = WorkPlane().RectangleC(a,a).Face()\n",
    "r.edges.Min(X).Identify(r.edges.Max(X),\n",
    "                        \"perx\", IdentificationType.PERIODIC)\n",
    "r.edges.Min(Y).Identify(r.edges.Max(Y),\n",
    "                        \"pery\", IdentificationType.PERIODIC)\n",
    "geo = OCCGeometry(r, dim=2)\n",
    "mesh = Mesh(geo.GenerateMesh(maxh=maxh))\n",
    "Draw(mesh)"
   ]
  },
  {
   "cell_type": "markdown",
   "id": "bright-merchant",
   "metadata": {},
   "source": [
    "Create finite element space and solution functions"
   ]
  },
  {
   "cell_type": "code",
   "execution_count": null,
   "id": "rough-importance",
   "metadata": {},
   "outputs": [],
   "source": [
    "V = Periodic(H1(mesh, order=3))\n",
    "fes = V*V\n",
    "(u,p), (v,q) = fes.TnT()\n",
    "\n",
    "gf = GridFunction(fes)\n",
    "gfold = GridFunction(fes)\n",
    "\n",
    "gfu, gfp = gf.components\n",
    "gfuold, gfpold = gfold.components"
   ]
  },
  {
   "cell_type": "markdown",
   "id": "promising-attachment",
   "metadata": {},
   "source": [
    "Random initial data in `[-0.2, 0.2]`"
   ]
  },
  {
   "cell_type": "code",
   "execution_count": null,
   "id": "parental-salvation",
   "metadata": {},
   "outputs": [],
   "source": [
    "for i in range(mesh.nv):\n",
    "    if(fes.CouplingType(i) == COUPLING_TYPE.WIREBASKET_DOF):\n",
    "        gfu.vec[i] = 2*phi-1  + (0.4*random.random()-0.2)\n",
    "Draw(gfu)"
   ]
  },
  {
   "cell_type": "markdown",
   "id": "acquired-passion",
   "metadata": {},
   "source": [
    "We derive a numerical scheme for the equation\n",
    "\n",
    "$$\n",
    "u_t = D \\Delta (u^3 - u - \\gamma \\Delta u)\n",
    "$$\n",
    "\n",
    "where $u \\in [-1,1]$ is the concentation of the fluid. $D$ is a diffusion coefficient with unit $m^2/s$ and \n",
    "$\\sqrt{\\gamma}$ gives the length of the transition regions between the domains.\n",
    "\n",
    "$\\mu = u^3 - u - \\gamma \\Delta u$ is the chemical potential.\n",
    "\n",
    "Now define $p := -\\Delta u$ and descretize in time with $u_t \\approx \\tau^{-1} (u - u_o)$ then\n",
    "\n",
    "$$\n",
    "\\tau^{-1}(u-u_o) = D (3 u^2 - 1) \\Delta u + D \\gamma \\Delta p\n",
    "$$\n",
    "\n",
    "Now multiply by $\\tau$ bring everything to the same side, integrate and test with testfunctions and do partial integration on all $\\Delta$ parts:\n",
    "\n",
    "$$\n",
    "\\int_\\Omega (u-u_o) v + \\tau D (3 \\tilde u^2 - 1) \\nabla \\tilde u \\nabla v + \\tau D \\gamma \\nabla p \\nabla v = 0\n",
    "$$\n",
    "\n",
    "The second equation becomes:\n",
    "\n",
    "$$\n",
    "\\int_\\Omega \\nabla u \\nabla q - p q \\, dx = 0\n",
    "$$\n",
    "\n",
    "With $\\tilde u = u_o$ if explicit, $ = u$ else. "
   ]
  },
  {
   "cell_type": "code",
   "execution_count": null,
   "id": "forty-nelson",
   "metadata": {},
   "outputs": [],
   "source": [
    "unl = gfuold if explicit else u\n",
    "\n",
    "a = BilinearForm(fes)\n",
    "a += (u-gfuold)*v * dx\n",
    "a += tau * D * gamma * grad(p) * grad(v) * dx\n",
    "a += tau * D * (3*unl**2-1) * grad(unl) * grad(v) * dx\n",
    "a += (grad(u) * grad(q) - p*q) * dx"
   ]
  },
  {
   "cell_type": "markdown",
   "id": "operating-burning",
   "metadata": {},
   "source": [
    "For the explicit system we can set up a solve a priori:"
   ]
  },
  {
   "cell_type": "code",
   "execution_count": null,
   "id": "athletic-fluid",
   "metadata": {},
   "outputs": [],
   "source": [
    "if explicit:\n",
    "    with TaskManager():\n",
    "        a.Assemble()\n",
    "        inv = a.mat.Inverse(fes.FreeDofs(), inverse=\"pardiso\")\n",
    "        res = gf.vec.CreateVector()    "
   ]
  },
  {
   "cell_type": "markdown",
   "id": "streaming-breakfast",
   "metadata": {},
   "source": [
    "Do timestepping:"
   ]
  },
  {
   "cell_type": "code",
   "execution_count": null,
   "id": "fatal-facility",
   "metadata": {},
   "outputs": [],
   "source": [
    "scene = Draw(gfu, autoscale=False, min=-1, max=1)\n",
    "with TaskManager():\n",
    "    for i in range(1000):\n",
    "        gfold.vec.data = gf.vec\n",
    "        if explicit:\n",
    "            a.Apply(gf.vec, res)\n",
    "            gf.vec.data -= inv * res\n",
    "        else:\n",
    "            solvers.Newton(a, gf, printing=True)\n",
    "        scene.Redraw()\n",
    "        print(\"t = \", i*tau, \"                \", end=\"\\r\")"
   ]
  },
  {
   "cell_type": "code",
   "execution_count": null,
   "id": "lovely-michigan",
   "metadata": {},
   "outputs": [],
   "source": []
  }
 ],
 "metadata": {
  "kernelspec": {
   "display_name": "Python 3 (ipykernel)",
   "language": "python",
   "name": "python3"
  },
  "language_info": {
   "codemirror_mode": {
    "name": "ipython",
    "version": 3
   },
   "file_extension": ".py",
   "mimetype": "text/x-python",
   "name": "python",
   "nbconvert_exporter": "python",
   "pygments_lexer": "ipython3",
   "version": "3.11.5"
  }
 },
 "nbformat": 4,
 "nbformat_minor": 5
}
