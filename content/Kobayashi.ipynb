{
 "cells": [
  {
   "cell_type": "code",
   "execution_count": null,
   "id": "natural-pittsburgh",
   "metadata": {},
   "outputs": [],
   "source": [
    "# import all needed libraries\n",
    "from netgen.occ import *\n",
    "from ngsolve import *\n",
    "from ngsolve.webgui import Draw\n",
    "import random"
   ]
  },
  {
   "cell_type": "code",
   "execution_count": null,
   "id": "suburban-lunch",
   "metadata": {},
   "outputs": [],
   "source": [
    "# Create the geometry\n",
    "domain = Rectangle(12,3).Face()\n",
    "domain.edges.Min(X).name = \"left\"\n",
    "domain.edges.Max(X).name = \"right\"\n",
    "domain.edges.Min(Y).name = \"bottom\"\n",
    "domain.edges.Max(Y).name = \"top\"\n",
    "geo = OCCGeometry(domain, dim=2)"
   ]
  },
  {
   "cell_type": "code",
   "execution_count": null,
   "id": "general-chart",
   "metadata": {},
   "outputs": [],
   "source": [
    "# Generate a mesh\n",
    "mesh = Mesh(geo.GenerateMesh(maxh=0.08))\n",
    "Draw(mesh)"
   ]
  },
  {
   "cell_type": "code",
   "execution_count": null,
   "id": "accurate-indian",
   "metadata": {},
   "outputs": [],
   "source": [
    "# Create finite element space on the mesh\n",
    "order = 2\n",
    "fes = H1(mesh, order=order) * H1(mesh, order=order)\n",
    "(p,T),(q,v) = fes.TnT()"
   ]
  },
  {
   "cell_type": "code",
   "execution_count": null,
   "id": "governmental-geometry",
   "metadata": {},
   "outputs": [],
   "source": [
    "# Define constants\n",
    "anisotropy = True\n",
    "if anisotropy:\n",
    "    epsbar = 0.01\n",
    "    j = 4\n",
    "    delta = 0.05\n",
    "    theta0 = 0\n",
    "else:\n",
    "    eps = 0.01\n",
    "tau = 0.003\n",
    "gamma = 10\n",
    "alpha = 0.9\n",
    "K = 1.2\n",
    "a1_val = 0.01\n",
    "random.seed(1)\n",
    "random_val = random.random()\n",
    "\n",
    "timestep = 0.001\n",
    "print(\"random = \", random_val)"
   ]
  },
  {
   "cell_type": "code",
   "execution_count": null,
   "id": "victorian-economy",
   "metadata": {},
   "outputs": [],
   "source": [
    "# Create solution objects\n",
    "gf, gfold = GridFunction(fes), GridFunction(fes)\n",
    "\n",
    "gfp, gfT = gf.components\n",
    "gfpold, gfTold = gfold.components"
   ]
  },
  {
   "cell_type": "markdown",
   "id": "severe-satisfaction",
   "metadata": {},
   "source": [
    "Consider the following equations for $p$ and $T$:\n",
    "\n",
    "$$\n",
    "\\tau \\partial_t p = \\varepsilon^2 \\Delta p + p(1-p)(p-0.5 + \\frac{\\alpha}{\\pi} \\text{atan}(\\gamma (1-T)) + a_1 p (1-p)(0.5 - r) = 0\n",
    "$$\n",
    "\n",
    "$$\n",
    "\\partial_t T = \\Delta T + K \\partial_t p\n",
    "$$\n",
    "\n",
    "Using $\\partial_t p \\approx dt^{-1}(p-p_o)$, integrating over the domain, partial integration on $\\Delta$ parts and bringing everything to the left hand side we get\n",
    "\n",
    "$$\n",
    "\\int_\\Omega (p-p_o) + dt \\varepsilon^2 \\nabla p \\nabla q - dt p_o(1-p_o)(p_o-0.5+\\frac{\\alpha}{\\pi} atan(\\gamma (1-T_o)) q - dt a_1 p_o (1-p_o) (0.5 - r) \\, dx = 0\n",
    "$$\n",
    "\n",
    "$$\n",
    "\\int_\\Omega (T-T_o) + dt \\nabla T \\nabla v + K (p-p_o) v \\, dx = 0\n",
    "$$\n",
    "\n",
    "We disretize this in time with an explicit euler scheme:"
   ]
  },
  {
   "cell_type": "code",
   "execution_count": null,
   "id": "moderate-connection",
   "metadata": {},
   "outputs": [],
   "source": [
    "theta = theta = IfPos(InnerProduct(grad(gfpold),grad(gfpold)),acos(grad(gfpold)[1]/sqrt(InnerProduct(grad(gfpold),grad(gfpold)))),0)\n",
    "eps = epsbar*(1+delta*cos(j*(theta-theta0)))\n",
    "\n",
    "a = BilinearForm(fes)\n",
    "a += tau * (p-gfpold) * q * dx\n",
    "a += timestep * eps**2 * grad(p) * grad(q) *dx\n",
    "a += - timestep * gfpold*(1-gfpold)*(gfpold-0.5+alpha/pi * atan(gamma * (1-gfTold))) * q * dx\n",
    "a += - timestep * a1_val * gfpold * (1-gfpold) * (0.5 - random_val) * q * dx\n",
    "a += (T-gfTold) * v * dx \n",
    "a += timestep * grad(T)*grad(v) * dx\n",
    "a += - K * (p-gfpold)*v * dx"
   ]
  },
  {
   "cell_type": "code",
   "execution_count": null,
   "id": "large-sunglasses",
   "metadata": {},
   "outputs": [],
   "source": [
    "b = BilinearForm(fes)\n",
    "b += - K * p * v * dx"
   ]
  },
  {
   "cell_type": "markdown",
   "id": "expected-artwork",
   "metadata": {},
   "source": [
    "As one can see, the first equation does not contain a $T$ and determines $p$, therefore we can compute first the new solution $p$ using the first equation block, then update the residual for the second block and solve for $T$:"
   ]
  },
  {
   "cell_type": "code",
   "execution_count": null,
   "id": "derived-diesel",
   "metadata": {},
   "outputs": [],
   "source": [
    "# Compute inverse of subblocks\n",
    "with TaskManager():\n",
    "    a.AssembleLinearization(gf.vec)\n",
    "    bits0 = BitArray(fes.FreeDofs())\n",
    "    bits0[fes.Range(1)] = False\n",
    "    bits1 = BitArray(fes.FreeDofs())\n",
    "    bits1[fes.Range(0)] = False\n",
    "    inv1 = a.mat.Inverse(bits0)\n",
    "    inv2 = a.mat.Inverse(bits1)\n",
    "    b.Assemble()\n",
    "    res = gf.vec.CreateVector()\n",
    "    tmp = gf.vec.CreateVector()\n",
    "    tmp1 = tmp.CreateVector()"
   ]
  },
  {
   "cell_type": "code",
   "execution_count": null,
   "id": "ordered-score",
   "metadata": {},
   "outputs": [],
   "source": [
    "# Timestepping\n",
    "t = 0\n",
    "tend = 30\n",
    "\n",
    "print(\"Phase:\")\n",
    "scenep = Draw(gfp, mesh, autoscale=False, min=0, max=1)\n",
    "print(\"Temperature\")\n",
    "sceneT = Draw(gfT, mesh, autoscale=False, min=0, max=1)\n",
    "\n",
    "count = 0\n",
    "\n",
    "# Set initial condition\n",
    "gfT.vec[:] = 0.\n",
    "gfp.Set(1, definedon=mesh.Boundaries('left'))\n",
    "\n",
    "with TaskManager():\n",
    "    print(t, tend * (1-1e-8))\n",
    "    while t < tend * (1-1e-8):\n",
    "        t += timestep\n",
    "        print(f\"t = {t:.3}\", end=\"\\r\")\n",
    "        count += 1\n",
    "        gfold.vec.data = gf.vec\n",
    "        a.Apply(gf.vec, res)\n",
    "        tmp1.data = inv1 * res\n",
    "        gf.vec.data -= tmp1\n",
    "        tmp.data = b.mat * tmp1\n",
    "        res.data -= tmp\n",
    "        gf.vec.data -= inv2 * res\n",
    "        # Redraw is expensive so do it only every 10th timestep\n",
    "        if count % 10 == 0:\n",
    "            scenep.Redraw()\n",
    "            sceneT.Redraw()\n",
    "\n",
    "scenep.Redraw()\n",
    "sceneT.Redraw()"
   ]
  }
 ],
 "metadata": {
  "kernelspec": {
   "display_name": "Python 3 (ipykernel)",
   "language": "python",
   "name": "python3"
  },
  "language_info": {
   "codemirror_mode": {
    "name": "ipython",
    "version": 3
   },
   "file_extension": ".py",
   "mimetype": "text/x-python",
   "name": "python",
   "nbconvert_exporter": "python",
   "pygments_lexer": "ipython3",
   "version": "3.11.5"
  }
 },
 "nbformat": 4,
 "nbformat_minor": 5
}
